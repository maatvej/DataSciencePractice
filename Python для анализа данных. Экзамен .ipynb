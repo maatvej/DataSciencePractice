{
 "cells": [
  {
   "cell_type": "markdown",
   "metadata": {},
   "source": [
    "### Задание 1: Работа с массивами NumPy\n",
    "\n",
    "#### Цель: Проверить знание методов NumPy для анализа данных.\n",
    "\n",
    "Задание:\n",
    "\n",
    "    Создайте массив случайных чисел (50 элементов) из диапазона [10, 100].\n",
    "    Найдите:\n",
    "    Среднее арифметическое массива.\n",
    "    Медиану.\n",
    "    Стандартное отклонение.\n",
    "    Создайте новый массив, где каждое число изначального массива делится на 3. Отфильтруйте числа, которые делятся без остатка.\n",
    "\n",
    "Ожидаемый ответ:\n",
    "\n",
    "    Вывод среднего, медианы, стандартного отклонения.\n",
    "    Новый массив и его фильтр.\n",
    "\n",
    "Балл: 6"
   ]
  },
  {
   "cell_type": "code",
   "execution_count": 1,
   "metadata": {},
   "outputs": [
    {
     "name": "stdout",
     "output_type": "stream",
     "text": [
      "Исходный массив случайных чисел:\n",
      "[ 50  56  95  94  79  18  62  83  94  34  24  27  23  88  61  42  77  33\n",
      "  88  18  27  49  94  12  75  79  59  43  34  63  89  95  77  64  95  70\n",
      "  29  57  48  94  61  18  79  35  36  87  64  29  79 100]\n",
      "\n",
      "Среднее арифметическое массива:\n",
      "59.74\n",
      "\n",
      "Медиана массива:\n",
      "61.5\n",
      "\n",
      "Стандартное отклонение массива:\n",
      "26.307268957457364\n",
      "\n",
      "Новый массив из числе делящихся на 3:\n",
      "[16.66666667 18.66666667 31.66666667 31.33333333 26.33333333  6.\n",
      " 20.66666667 27.66666667 31.33333333 11.33333333  8.          9.\n",
      "  7.66666667 29.33333333 20.33333333 14.         25.66666667 11.\n",
      " 29.33333333  6.          9.         16.33333333 31.33333333  4.\n",
      " 25.         26.33333333 19.66666667 14.33333333 11.33333333 21.\n",
      " 29.66666667 31.66666667 25.66666667 21.33333333 31.66666667 23.33333333\n",
      "  9.66666667 19.         16.         31.33333333 20.33333333  6.\n",
      " 26.33333333 11.66666667 12.         29.         21.33333333  9.66666667\n",
      " 26.33333333 33.33333333]\n",
      "\n",
      " массив из чисел, отфильтрованные по делению на 3 без остатка (после деления):\n",
      "[ 6.  8.  9. 14. 11.  6.  9.  4. 25. 21. 19. 16.  6. 12. 29.]\n"
     ]
    }
   ],
   "source": [
    "import numpy as np\n",
    "\n",
    "random_array = np.random.randint(10, 101, size=50) # Создание массива из 50 чисел в диапозоне от 10 до 100\n",
    "print(\"Исходный массив случайных чисел:\")\n",
    "print(random_array)\n",
    "\n",
    "mean_value = np.mean(random_array) # Находим среднее арифмитическое\n",
    "print(\"\\nСреднее арифметическое массива:\")\n",
    "print(mean_value)\n",
    "\n",
    "mediana = np.median(random_array) # находим медиану\n",
    "print(\"\\nМедиана массива:\")\n",
    "print(mediana)\n",
    "\n",
    "std_dev = np.std(random_array) # Находим стандартное отклонение\n",
    "print(\"\\nСтандартное отклонение массива:\")\n",
    "print(std_dev)\n",
    "\n",
    "div_3_array = random_array / 3 # Создание массива из чисел, разделенных на 3\n",
    "print(\"\\nНовый массив из числе делящихся на 3:\")\n",
    "print(div_3_array)\n",
    "\n",
    "\n",
    "div_3_array = div_3_array[random_array % 3 == 0] # Фильт чисел, делящихся на 3 без остатка\n",
    "print(\"\\n массив из чисел, отфильтрованные по делению на 3 без остатка (после деления):\")\n",
    "print(div_3_array)\n"
   ]
  },
  {
   "cell_type": "markdown",
   "metadata": {},
   "source": [
    "### Задание 2: Анализ данных с помощью Pandas\n",
    "\n",
    "#### Цель: Проверить навыки анализа и обработки данных.\n",
    "\n",
    "Данные: Используйте предоставленный CSV-файл (\"sales_data_large.csv\"), содержащий данные о продажах с полями:\n",
    "\n",
    "    date (дата продаж),\n",
    "    region (регион),\n",
    "    product (продукт),\n",
    "    sales (объем продаж).\n",
    "\n",
    "Задание:\n",
    "\n",
    "    Загрузите данные из файла.\n",
    "    Определите:\n",
    "    Общее количество записей.\n",
    "    Какие регионы и продукты присутствуют в данных.\n",
    "    Подсчитайте:\n",
    "    Общие продажи по регионам.\n",
    "    Средний объем продаж для каждого продукта.\n",
    "    Постройте сводную таблицу, показывающую средние продажи по регионам и продуктам.\n",
    "\n",
    "Ожидаемый ответ:\n",
    "\n",
    "    Итоги анализа данных.\n",
    "    Построенная сводная таблица.\n",
    "\n",
    "Балл: 9"
   ]
  },
  {
   "cell_type": "code",
   "execution_count": 2,
   "metadata": {},
   "outputs": [],
   "source": [
    "import pandas as pd\n",
    "df = pd.read_csv(\"sales_data_large.csv\")"
   ]
  },
  {
   "cell_type": "code",
   "execution_count": 3,
   "metadata": {},
   "outputs": [
    {
     "data": {
      "text/html": [
       "<div>\n",
       "<style scoped>\n",
       "    .dataframe tbody tr th:only-of-type {\n",
       "        vertical-align: middle;\n",
       "    }\n",
       "\n",
       "    .dataframe tbody tr th {\n",
       "        vertical-align: top;\n",
       "    }\n",
       "\n",
       "    .dataframe thead th {\n",
       "        text-align: right;\n",
       "    }\n",
       "</style>\n",
       "<table border=\"1\" class=\"dataframe\">\n",
       "  <thead>\n",
       "    <tr style=\"text-align: right;\">\n",
       "      <th></th>\n",
       "      <th>date</th>\n",
       "      <th>region</th>\n",
       "      <th>product</th>\n",
       "      <th>sales</th>\n",
       "    </tr>\n",
       "  </thead>\n",
       "  <tbody>\n",
       "    <tr>\n",
       "      <th>0</th>\n",
       "      <td>2024-12-01</td>\n",
       "      <td>West</td>\n",
       "      <td>Widget C</td>\n",
       "      <td>246</td>\n",
       "    </tr>\n",
       "    <tr>\n",
       "      <th>1</th>\n",
       "      <td>2024-12-01</td>\n",
       "      <td>South</td>\n",
       "      <td>Widget B</td>\n",
       "      <td>152</td>\n",
       "    </tr>\n",
       "    <tr>\n",
       "      <th>2</th>\n",
       "      <td>2024-12-01</td>\n",
       "      <td>West</td>\n",
       "      <td>Widget B</td>\n",
       "      <td>391</td>\n",
       "    </tr>\n",
       "    <tr>\n",
       "      <th>3</th>\n",
       "      <td>2024-12-01</td>\n",
       "      <td>West</td>\n",
       "      <td>Widget A</td>\n",
       "      <td>272</td>\n",
       "    </tr>\n",
       "    <tr>\n",
       "      <th>4</th>\n",
       "      <td>2024-12-01</td>\n",
       "      <td>East</td>\n",
       "      <td>Widget A</td>\n",
       "      <td>337</td>\n",
       "    </tr>\n",
       "  </tbody>\n",
       "</table>\n",
       "</div>"
      ],
      "text/plain": [
       "         date region   product  sales\n",
       "0  2024-12-01   West  Widget C    246\n",
       "1  2024-12-01  South  Widget B    152\n",
       "2  2024-12-01   West  Widget B    391\n",
       "3  2024-12-01   West  Widget A    272\n",
       "4  2024-12-01   East  Widget A    337"
      ]
     },
     "execution_count": 3,
     "metadata": {},
     "output_type": "execute_result"
    }
   ],
   "source": [
    "df.head(5) # Вывод первых 5 записей в датафрейме"
   ]
  },
  {
   "cell_type": "code",
   "execution_count": 4,
   "metadata": {},
   "outputs": [
    {
     "name": "stdout",
     "output_type": "stream",
     "text": [
      "<class 'pandas.core.frame.DataFrame'>\n",
      "RangeIndex: 500 entries, 0 to 499\n",
      "Data columns (total 4 columns):\n",
      " #   Column   Non-Null Count  Dtype \n",
      "---  ------   --------------  ----- \n",
      " 0   date     500 non-null    object\n",
      " 1   region   500 non-null    object\n",
      " 2   product  500 non-null    object\n",
      " 3   sales    500 non-null    int64 \n",
      "dtypes: int64(1), object(3)\n",
      "memory usage: 15.8+ KB\n"
     ]
    }
   ],
   "source": [
    "df.info() # Общее количество записей. "
   ]
  },
  {
   "cell_type": "markdown",
   "metadata": {},
   "source": [
    "Общее количество записей: 500"
   ]
  },
  {
   "cell_type": "code",
   "execution_count": 5,
   "metadata": {},
   "outputs": [
    {
     "name": "stdout",
     "output_type": "stream",
     "text": [
      "['West' 'South' 'East' 'North']\n",
      "['Widget C' 'Widget B' 'Widget A']\n"
     ]
    }
   ],
   "source": [
    "print(df['region'].unique())\n",
    "print(df['product'].unique())"
   ]
  },
  {
   "cell_type": "markdown",
   "metadata": {},
   "source": [
    "В датасете представлены сведения о регионах: West, South, East, Norht\n",
    "В датасете представлены сведения о продуктах: Widget C, Widget B, Widgwt A\n"
   ]
  },
  {
   "cell_type": "code",
   "execution_count": 6,
   "metadata": {},
   "outputs": [
    {
     "data": {
      "text/plain": [
       "region\n",
       "East     29244\n",
       "North    39605\n",
       "South    33023\n",
       "West     35171\n",
       "Name: sales, dtype: int64"
      ]
     },
     "execution_count": 6,
     "metadata": {},
     "output_type": "execute_result"
    }
   ],
   "source": [
    "# Сумма продаж по каждому региону\n",
    "region_sales = df.groupby('region')['sales'].sum()\n",
    "region_sales\n"
   ]
  },
  {
   "cell_type": "code",
   "execution_count": 7,
   "metadata": {},
   "outputs": [
    {
     "data": {
      "text/plain": [
       "product\n",
       "Widget A    275.424242\n",
       "Widget B    268.331361\n",
       "Widget C    278.614458\n",
       "Name: sales, dtype: float64"
      ]
     },
     "execution_count": 7,
     "metadata": {},
     "output_type": "execute_result"
    }
   ],
   "source": [
    "# Средние значения продаж для каждого продукта\n",
    "product_sales_mean = df.groupby('product')['sales'].mean()\n",
    "product_sales_mean\n"
   ]
  },
  {
   "cell_type": "code",
   "execution_count": 8,
   "metadata": {},
   "outputs": [
    {
     "data": {
      "text/html": [
       "<div>\n",
       "<style scoped>\n",
       "    .dataframe tbody tr th:only-of-type {\n",
       "        vertical-align: middle;\n",
       "    }\n",
       "\n",
       "    .dataframe tbody tr th {\n",
       "        vertical-align: top;\n",
       "    }\n",
       "\n",
       "    .dataframe thead th {\n",
       "        text-align: right;\n",
       "    }\n",
       "</style>\n",
       "<table border=\"1\" class=\"dataframe\">\n",
       "  <thead>\n",
       "    <tr style=\"text-align: right;\">\n",
       "      <th>product</th>\n",
       "      <th>Widget A</th>\n",
       "      <th>Widget B</th>\n",
       "      <th>Widget C</th>\n",
       "    </tr>\n",
       "    <tr>\n",
       "      <th>region</th>\n",
       "      <th></th>\n",
       "      <th></th>\n",
       "      <th></th>\n",
       "    </tr>\n",
       "  </thead>\n",
       "  <tbody>\n",
       "    <tr>\n",
       "      <th>East</th>\n",
       "      <td>291.464286</td>\n",
       "      <td>263.116279</td>\n",
       "      <td>271.361111</td>\n",
       "    </tr>\n",
       "    <tr>\n",
       "      <th>North</th>\n",
       "      <td>289.145833</td>\n",
       "      <td>238.477273</td>\n",
       "      <td>304.660000</td>\n",
       "    </tr>\n",
       "    <tr>\n",
       "      <th>South</th>\n",
       "      <td>277.380952</td>\n",
       "      <td>282.833333</td>\n",
       "      <td>263.722222</td>\n",
       "    </tr>\n",
       "    <tr>\n",
       "      <th>West</th>\n",
       "      <td>250.106383</td>\n",
       "      <td>291.550000</td>\n",
       "      <td>267.136364</td>\n",
       "    </tr>\n",
       "  </tbody>\n",
       "</table>\n",
       "</div>"
      ],
      "text/plain": [
       "product    Widget A    Widget B    Widget C\n",
       "region                                     \n",
       "East     291.464286  263.116279  271.361111\n",
       "North    289.145833  238.477273  304.660000\n",
       "South    277.380952  282.833333  263.722222\n",
       "West     250.106383  291.550000  267.136364"
      ]
     },
     "execution_count": 8,
     "metadata": {},
     "output_type": "execute_result"
    }
   ],
   "source": [
    "# Показатели средних значений продаж для каждого региона для каждого вида товара\n",
    "table_sales = df.pivot_table(values='sales', index='region', columns='product', aggfunc='mean')\n",
    "table_sales\n"
   ]
  },
  {
   "cell_type": "markdown",
   "metadata": {},
   "source": [
    "### Задание 3: Очистка данных и визуализация\n",
    "\n",
    "#### Цель: Проверить умение находить и исправлять ошибки в данных, а также визуализировать их.\n",
    "\n",
    "Данные: Используйте предоставленный CSV-файл (\"sales_cleaning_large.csv\"), содержащий данные о продажах с возможными пропущенными и некорректными значениями. Поля:\n",
    "\n",
    "    date (дата продаж),\n",
    "    sales (объем продаж),\n",
    "    region (регион).\n",
    "\n",
    "Задание:\n",
    "\n",
    "    Найдите и устраните ошибки в данных:\n",
    "    Заполните пропущенные даты.\n",
    "    Удалите отрицательные значения в столбце sales или замените их на медиану столбца.\n",
    "    Заполните пропущенные значения в sales средним значением.\n",
    "    Постройте график продаж по датам. Убедитесь, что даты упорядочены.\n",
    "\n",
    "Ожидаемый ответ:\n",
    "\n",
    "    Обработанный DataFrame.\n",
    "    Построенный график.\n",
    "\n",
    "Балл: 10"
   ]
  },
  {
   "cell_type": "code",
   "execution_count": 9,
   "metadata": {},
   "outputs": [
    {
     "name": "stdout",
     "output_type": "stream",
     "text": [
      "<class 'pandas.core.frame.DataFrame'>\n",
      "RangeIndex: 200 entries, 0 to 199\n",
      "Data columns (total 3 columns):\n",
      " #   Column  Non-Null Count  Dtype  \n",
      "---  ------  --------------  -----  \n",
      " 0   date    190 non-null    object \n",
      " 1   sales   190 non-null    float64\n",
      " 2   region  200 non-null    object \n",
      "dtypes: float64(1), object(2)\n",
      "memory usage: 4.8+ KB\n"
     ]
    }
   ],
   "source": [
    "df = pd.read_csv(\"sales_cleaning_large.csv\")\n",
    "df.info()\n"
   ]
  },
  {
   "cell_type": "markdown",
   "metadata": {},
   "source": [
    "Из представленной информации видно, что из 200 записей 190 записей не содержат пропуски.\n"
   ]
  },
  {
   "cell_type": "code",
   "execution_count": 10,
   "metadata": {},
   "outputs": [
    {
     "data": {
      "text/plain": [
       "array(['2024-12-01', '2024-12-02', '2024-12-03', '2024-12-04',\n",
       "       '2024-12-05', '2024-12-06', '2024-12-07', '2024-12-08',\n",
       "       '2024-12-09', '2024-12-10', '2024-12-11', '2024-12-12',\n",
       "       '2024-12-13', '2024-12-14', '2024-12-15', '2024-12-16',\n",
       "       '2024-12-17', '2024-12-18', '2024-12-19', '2024-12-20',\n",
       "       '2024-12-21', '2024-12-22', '2024-12-23', '2024-12-24',\n",
       "       '2024-12-25', '2024-12-26', '2024-12-27', '2024-12-28',\n",
       "       '2024-12-29', '2024-12-30', '2024-12-31', nan], dtype=object)"
      ]
     },
     "execution_count": 10,
     "metadata": {},
     "output_type": "execute_result"
    }
   ],
   "source": [
    "# Проверям данные данные в сдолбце data\n",
    "df['date'].unique()"
   ]
  },
  {
   "cell_type": "markdown",
   "metadata": {},
   "source": [
    "Из анализа данных столбца \"data\" следует, что они представляют собой данные за декабрь месяц 2024 года.\n",
    "При этом видно, что сведения о датах содержат пропущенные даты. Далее следует посмотреть какие данные в столбце date содержат пропуски."
   ]
  },
  {
   "cell_type": "code",
   "execution_count": 11,
   "metadata": {},
   "outputs": [
    {
     "data": {
      "text/html": [
       "<div>\n",
       "<style scoped>\n",
       "    .dataframe tbody tr th:only-of-type {\n",
       "        vertical-align: middle;\n",
       "    }\n",
       "\n",
       "    .dataframe tbody tr th {\n",
       "        vertical-align: top;\n",
       "    }\n",
       "\n",
       "    .dataframe thead th {\n",
       "        text-align: right;\n",
       "    }\n",
       "</style>\n",
       "<table border=\"1\" class=\"dataframe\">\n",
       "  <thead>\n",
       "    <tr style=\"text-align: right;\">\n",
       "      <th></th>\n",
       "      <th>date</th>\n",
       "      <th>sales</th>\n",
       "      <th>region</th>\n",
       "    </tr>\n",
       "  </thead>\n",
       "  <tbody>\n",
       "    <tr>\n",
       "      <th>190</th>\n",
       "      <td>NaN</td>\n",
       "      <td>150.0</td>\n",
       "      <td>South</td>\n",
       "    </tr>\n",
       "    <tr>\n",
       "      <th>191</th>\n",
       "      <td>NaN</td>\n",
       "      <td>-500.0</td>\n",
       "      <td>West</td>\n",
       "    </tr>\n",
       "    <tr>\n",
       "      <th>192</th>\n",
       "      <td>NaN</td>\n",
       "      <td>50.0</td>\n",
       "      <td>West</td>\n",
       "    </tr>\n",
       "    <tr>\n",
       "      <th>193</th>\n",
       "      <td>NaN</td>\n",
       "      <td>350.0</td>\n",
       "      <td>South</td>\n",
       "    </tr>\n",
       "    <tr>\n",
       "      <th>194</th>\n",
       "      <td>NaN</td>\n",
       "      <td>-350.0</td>\n",
       "      <td>South</td>\n",
       "    </tr>\n",
       "    <tr>\n",
       "      <th>195</th>\n",
       "      <td>NaN</td>\n",
       "      <td>400.0</td>\n",
       "      <td>West</td>\n",
       "    </tr>\n",
       "    <tr>\n",
       "      <th>196</th>\n",
       "      <td>NaN</td>\n",
       "      <td>-150.0</td>\n",
       "      <td>West</td>\n",
       "    </tr>\n",
       "    <tr>\n",
       "      <th>197</th>\n",
       "      <td>NaN</td>\n",
       "      <td>-500.0</td>\n",
       "      <td>South</td>\n",
       "    </tr>\n",
       "    <tr>\n",
       "      <th>198</th>\n",
       "      <td>NaN</td>\n",
       "      <td>-350.0</td>\n",
       "      <td>East</td>\n",
       "    </tr>\n",
       "    <tr>\n",
       "      <th>199</th>\n",
       "      <td>NaN</td>\n",
       "      <td>-50.0</td>\n",
       "      <td>North</td>\n",
       "    </tr>\n",
       "  </tbody>\n",
       "</table>\n",
       "</div>"
      ],
      "text/plain": [
       "    date  sales region\n",
       "190  NaN  150.0  South\n",
       "191  NaN -500.0   West\n",
       "192  NaN   50.0   West\n",
       "193  NaN  350.0  South\n",
       "194  NaN -350.0  South\n",
       "195  NaN  400.0   West\n",
       "196  NaN -150.0   West\n",
       "197  NaN -500.0  South\n",
       "198  NaN -350.0   East\n",
       "199  NaN  -50.0  North"
      ]
     },
     "execution_count": 11,
     "metadata": {},
     "output_type": "execute_result"
    }
   ],
   "source": [
    "# Пропуски значений в столбце \"data\"\n",
    "missing_values = df[df['date'].isnull()]\n",
    "missing_values\n"
   ]
  },
  {
   "cell_type": "markdown",
   "metadata": {},
   "source": [
    "Из анализа следует, что в представленных данных помимо пропущенных данных в столбце \"data\" присутсвуют отрицательные данные в сталбце \"sales\", что можно отнести к ошибкам.\n",
    "Далее, следует посомтреть количество уникальных значений в столбце \"sales\""
   ]
  },
  {
   "cell_type": "code",
   "execution_count": 12,
   "metadata": {},
   "outputs": [
    {
     "data": {
      "text/plain": [
       "array([-450.,  400., -100.,  350.,   50.,  250.,  -50., -250., -200.,\n",
       "       -150.,   nan,  100., -300., -350.,    0.,  200., -500.,  450.,\n",
       "        300.,  150., -400.])"
      ]
     },
     "execution_count": 12,
     "metadata": {},
     "output_type": "execute_result"
    }
   ],
   "source": [
    "# Проверям данные данные в сдолбце sales\n",
    "df['sales'].unique()"
   ]
  },
  {
   "cell_type": "markdown",
   "metadata": {},
   "source": [
    "Как видим в данных представлены 4 категории значений: положительные значения, отрицательные значения, значения 0, пропущенные значения.\n",
    "Ошибочными значениями следует признать отрицательные значения и пропущенные значения. Следует принять оптимальное решение для данных, содержащих ошибки."
   ]
  },
  {
   "cell_type": "code",
   "execution_count": 13,
   "metadata": {},
   "outputs": [
    {
     "data": {
      "text/html": [
       "<div>\n",
       "<style scoped>\n",
       "    .dataframe tbody tr th:only-of-type {\n",
       "        vertical-align: middle;\n",
       "    }\n",
       "\n",
       "    .dataframe tbody tr th {\n",
       "        vertical-align: top;\n",
       "    }\n",
       "\n",
       "    .dataframe thead th {\n",
       "        text-align: right;\n",
       "    }\n",
       "</style>\n",
       "<table border=\"1\" class=\"dataframe\">\n",
       "  <thead>\n",
       "    <tr style=\"text-align: right;\">\n",
       "      <th></th>\n",
       "      <th>date</th>\n",
       "      <th>sales</th>\n",
       "      <th>region</th>\n",
       "    </tr>\n",
       "  </thead>\n",
       "  <tbody>\n",
       "    <tr>\n",
       "      <th>0</th>\n",
       "      <td>2024-12-01</td>\n",
       "      <td>-450.0</td>\n",
       "      <td>East</td>\n",
       "    </tr>\n",
       "    <tr>\n",
       "      <th>2</th>\n",
       "      <td>2024-12-01</td>\n",
       "      <td>-100.0</td>\n",
       "      <td>South</td>\n",
       "    </tr>\n",
       "    <tr>\n",
       "      <th>7</th>\n",
       "      <td>2024-12-02</td>\n",
       "      <td>-50.0</td>\n",
       "      <td>South</td>\n",
       "    </tr>\n",
       "    <tr>\n",
       "      <th>8</th>\n",
       "      <td>2024-12-02</td>\n",
       "      <td>-250.0</td>\n",
       "      <td>West</td>\n",
       "    </tr>\n",
       "    <tr>\n",
       "      <th>9</th>\n",
       "      <td>2024-12-02</td>\n",
       "      <td>-450.0</td>\n",
       "      <td>South</td>\n",
       "    </tr>\n",
       "    <tr>\n",
       "      <th>...</th>\n",
       "      <td>...</td>\n",
       "      <td>...</td>\n",
       "      <td>...</td>\n",
       "    </tr>\n",
       "    <tr>\n",
       "      <th>194</th>\n",
       "      <td>NaN</td>\n",
       "      <td>-350.0</td>\n",
       "      <td>South</td>\n",
       "    </tr>\n",
       "    <tr>\n",
       "      <th>196</th>\n",
       "      <td>NaN</td>\n",
       "      <td>-150.0</td>\n",
       "      <td>West</td>\n",
       "    </tr>\n",
       "    <tr>\n",
       "      <th>197</th>\n",
       "      <td>NaN</td>\n",
       "      <td>-500.0</td>\n",
       "      <td>South</td>\n",
       "    </tr>\n",
       "    <tr>\n",
       "      <th>198</th>\n",
       "      <td>NaN</td>\n",
       "      <td>-350.0</td>\n",
       "      <td>East</td>\n",
       "    </tr>\n",
       "    <tr>\n",
       "      <th>199</th>\n",
       "      <td>NaN</td>\n",
       "      <td>-50.0</td>\n",
       "      <td>North</td>\n",
       "    </tr>\n",
       "  </tbody>\n",
       "</table>\n",
       "<p>89 rows × 3 columns</p>\n",
       "</div>"
      ],
      "text/plain": [
       "           date  sales region\n",
       "0    2024-12-01 -450.0   East\n",
       "2    2024-12-01 -100.0  South\n",
       "7    2024-12-02  -50.0  South\n",
       "8    2024-12-02 -250.0   West\n",
       "9    2024-12-02 -450.0  South\n",
       "..          ...    ...    ...\n",
       "194         NaN -350.0  South\n",
       "196         NaN -150.0   West\n",
       "197         NaN -500.0  South\n",
       "198         NaN -350.0   East\n",
       "199         NaN  -50.0  North\n",
       "\n",
       "[89 rows x 3 columns]"
      ]
     },
     "execution_count": 13,
     "metadata": {},
     "output_type": "execute_result"
    }
   ],
   "source": [
    "zeros = df[df['sales']  < 0]\n",
    "zeros"
   ]
  },
  {
   "cell_type": "code",
   "execution_count": 14,
   "metadata": {},
   "outputs": [
    {
     "data": {
      "text/html": [
       "<div>\n",
       "<style scoped>\n",
       "    .dataframe tbody tr th:only-of-type {\n",
       "        vertical-align: middle;\n",
       "    }\n",
       "\n",
       "    .dataframe tbody tr th {\n",
       "        vertical-align: top;\n",
       "    }\n",
       "\n",
       "    .dataframe thead th {\n",
       "        text-align: right;\n",
       "    }\n",
       "</style>\n",
       "<table border=\"1\" class=\"dataframe\">\n",
       "  <thead>\n",
       "    <tr style=\"text-align: right;\">\n",
       "      <th></th>\n",
       "      <th>date</th>\n",
       "      <th>sales</th>\n",
       "      <th>region</th>\n",
       "    </tr>\n",
       "  </thead>\n",
       "  <tbody>\n",
       "    <tr>\n",
       "      <th>15</th>\n",
       "      <td>2024-12-03</td>\n",
       "      <td>NaN</td>\n",
       "      <td>South</td>\n",
       "    </tr>\n",
       "    <tr>\n",
       "      <th>23</th>\n",
       "      <td>2024-12-04</td>\n",
       "      <td>NaN</td>\n",
       "      <td>South</td>\n",
       "    </tr>\n",
       "    <tr>\n",
       "      <th>33</th>\n",
       "      <td>2024-12-06</td>\n",
       "      <td>NaN</td>\n",
       "      <td>North</td>\n",
       "    </tr>\n",
       "    <tr>\n",
       "      <th>43</th>\n",
       "      <td>2024-12-07</td>\n",
       "      <td>NaN</td>\n",
       "      <td>East</td>\n",
       "    </tr>\n",
       "    <tr>\n",
       "      <th>83</th>\n",
       "      <td>2024-12-13</td>\n",
       "      <td>NaN</td>\n",
       "      <td>West</td>\n",
       "    </tr>\n",
       "    <tr>\n",
       "      <th>84</th>\n",
       "      <td>2024-12-13</td>\n",
       "      <td>NaN</td>\n",
       "      <td>West</td>\n",
       "    </tr>\n",
       "    <tr>\n",
       "      <th>92</th>\n",
       "      <td>2024-12-15</td>\n",
       "      <td>NaN</td>\n",
       "      <td>North</td>\n",
       "    </tr>\n",
       "    <tr>\n",
       "      <th>107</th>\n",
       "      <td>2024-12-17</td>\n",
       "      <td>NaN</td>\n",
       "      <td>North</td>\n",
       "    </tr>\n",
       "    <tr>\n",
       "      <th>112</th>\n",
       "      <td>2024-12-18</td>\n",
       "      <td>NaN</td>\n",
       "      <td>East</td>\n",
       "    </tr>\n",
       "    <tr>\n",
       "      <th>165</th>\n",
       "      <td>2024-12-28</td>\n",
       "      <td>NaN</td>\n",
       "      <td>West</td>\n",
       "    </tr>\n",
       "  </tbody>\n",
       "</table>\n",
       "</div>"
      ],
      "text/plain": [
       "           date  sales region\n",
       "15   2024-12-03    NaN  South\n",
       "23   2024-12-04    NaN  South\n",
       "33   2024-12-06    NaN  North\n",
       "43   2024-12-07    NaN   East\n",
       "83   2024-12-13    NaN   West\n",
       "84   2024-12-13    NaN   West\n",
       "92   2024-12-15    NaN  North\n",
       "107  2024-12-17    NaN  North\n",
       "112  2024-12-18    NaN   East\n",
       "165  2024-12-28    NaN   West"
      ]
     },
     "execution_count": 14,
     "metadata": {},
     "output_type": "execute_result"
    }
   ],
   "source": [
    "sales_none= df[df['sales'].isnull()]\n",
    "sales_none"
   ]
  },
  {
   "cell_type": "markdown",
   "metadata": {},
   "source": [
    "Количество записей в столбце \"sales\", содержащие отрицательные значения, составляет 89. П Кроме, существуют записи в столбце \"salse\", в которых значения отсутсвуют, значение которых составляет 10 записей. Таким образом нужно обработать 99 некорретных записий. Учитывая количество некорректных записей разумной стратегией представляется заполнение их значениями, на основе имеющихся. \n",
    "В качестве решение предлагается слдеюущий подход:\n",
    "- Пропущенные значения дата заполнять случайным образом из значений, имеющихся в датасете. Такой подход позволит сохраить равномерность распределения событий.\n",
    "- Пропущенные и отрицательные значения в столбце \"sale\" предлагается заполнить средним значением."
   ]
  },
  {
   "cell_type": "code",
   "execution_count": 15,
   "metadata": {},
   "outputs": [],
   "source": [
    "# Сортировка столюца \"data\"\n",
    "\n",
    "df['date'] = pd.to_datetime(df['date'])\n",
    "df = df.sort_values(by='date')\n",
    "date_range = pd.date_range"
   ]
  },
  {
   "cell_type": "code",
   "execution_count": 16,
   "metadata": {},
   "outputs": [
    {
     "data": {
      "text/plain": [
       "<DatetimeArray>\n",
       "['2024-12-01 00:00:00', '2024-12-02 00:00:00', '2024-12-03 00:00:00',\n",
       " '2024-12-04 00:00:00', '2024-12-05 00:00:00', '2024-12-06 00:00:00',\n",
       " '2024-12-07 00:00:00', '2024-12-08 00:00:00', '2024-12-09 00:00:00',\n",
       " '2024-12-10 00:00:00', '2024-12-11 00:00:00', '2024-12-12 00:00:00',\n",
       " '2024-12-13 00:00:00', '2024-12-14 00:00:00', '2024-12-15 00:00:00',\n",
       " '2024-12-16 00:00:00', '2024-12-17 00:00:00', '2024-12-18 00:00:00',\n",
       " '2024-12-19 00:00:00', '2024-12-20 00:00:00', '2024-12-21 00:00:00',\n",
       " '2024-12-22 00:00:00', '2024-12-23 00:00:00', '2024-12-24 00:00:00',\n",
       " '2024-12-25 00:00:00', '2024-12-26 00:00:00', '2024-12-27 00:00:00',\n",
       " '2024-12-28 00:00:00', '2024-12-29 00:00:00', '2024-12-30 00:00:00',\n",
       " '2024-12-31 00:00:00']\n",
       "Length: 31, dtype: datetime64[ns]"
      ]
     },
     "execution_count": 16,
     "metadata": {},
     "output_type": "execute_result"
    }
   ],
   "source": [
    "# Определяем полный диапазон дат\n",
    "date_range = pd.date_range(start=df['date'].min(), end=df['date'].max())\n",
    "\n",
    "# Замена пустых знгачений на случайно выбранное значение из диапозона дат\n",
    "df['date'] = df['date'].apply(lambda x: np.random.choice(date_range) if pd.isnull(x) else x)\n",
    "\n",
    "# После преобразования датасет выглядит следующим образом\n",
    "df['date'].unique()"
   ]
  },
  {
   "cell_type": "code",
   "execution_count": 17,
   "metadata": {},
   "outputs": [
    {
     "name": "stdout",
     "output_type": "stream",
     "text": [
      "          date  sales region\n",
      "15  2024-12-03    NaN  South\n",
      "23  2024-12-04    NaN  South\n",
      "33  2024-12-06    NaN  North\n",
      "43  2024-12-07    NaN   East\n",
      "84  2024-12-13    NaN   West\n",
      "83  2024-12-13    NaN   West\n",
      "92  2024-12-15    NaN  North\n",
      "107 2024-12-17    NaN  North\n",
      "112 2024-12-18    NaN   East\n",
      "165 2024-12-28    NaN   West\n"
     ]
    },
    {
     "data": {
      "text/plain": [
       "array([-450.,  400., -100.,  350., -200., -250.,  -50.,  250.,   50.,\n",
       "       -150.,   nan,  100., -300.,    0., -350.,  200., -500.,  300.,\n",
       "        450.,  150., -400.])"
      ]
     },
     "execution_count": 17,
     "metadata": {},
     "output_type": "execute_result"
    }
   ],
   "source": [
    "print(df[df['sales'].isnull()])\n",
    "df['sales'].unique()"
   ]
  },
  {
   "cell_type": "code",
   "execution_count": 18,
   "metadata": {},
   "outputs": [
    {
     "name": "stdout",
     "output_type": "stream",
     "text": [
      "медианное значение, которым будут замещены пусыте и отрицательные значения: 250.0\n"
     ]
    }
   ],
   "source": [
    "# Определеим значение среднего для всех положительных значений в столбце \"salse\"\n",
    "for_median_sales = df[df['sales'] >0]\n",
    "median_sales = for_median_sales['sales'].median(skipna=True)\n",
    "print(f'медианное значение, которым будут замещены пусыте и отрицательные значения: {median_sales}' )\n"
   ]
  },
  {
   "cell_type": "code",
   "execution_count": 19,
   "metadata": {},
   "outputs": [
    {
     "data": {
      "text/plain": [
       "array([250., 400., 350.,  50., 100.,   0., 200., 300., 450., 150.])"
      ]
     },
     "execution_count": 19,
     "metadata": {},
     "output_type": "execute_result"
    }
   ],
   "source": [
    "\n",
    "\n",
    "# Замена всех отрицательных и пустых значений на значение среднего по столбцу \"sales\"\n",
    "df['sales'] = df['sales'].apply(lambda x: median_sales if x < 0 else x)\n",
    "df['sales'] = df['sales'].fillna(median_sales)\n",
    "\n",
    "# Убеждаемся, что среди значений столбца \"sales\" отсутсвуют отрицательные и пустые значения\n",
    "df['sales'].unique()"
   ]
  },
  {
   "cell_type": "code",
   "execution_count": 20,
   "metadata": {},
   "outputs": [
    {
     "data": {
      "text/plain": [
       "0     2024-12-01\n",
       "1     2024-12-01\n",
       "2     2024-12-01\n",
       "3     2024-12-01\n",
       "198   2024-12-02\n",
       "         ...    \n",
       "186   2024-12-31\n",
       "185   2024-12-31\n",
       "188   2024-12-31\n",
       "187   2024-12-31\n",
       "189   2024-12-31\n",
       "Name: date, Length: 200, dtype: datetime64[ns]"
      ]
     },
     "execution_count": 20,
     "metadata": {},
     "output_type": "execute_result"
    }
   ],
   "source": [
    "df = df.sort_values(by='date')\n",
    "df['date']"
   ]
  },
  {
   "cell_type": "code",
   "execution_count": 33,
   "metadata": {},
   "outputs": [
    {
     "data": {
      "image/png": "[encoded data removed]",
      "text/plain": [
       "<Figure size 1000x600 with 1 Axes>"
      ]
     },
     "metadata": {},
     "output_type": "display_data"
    }
   ],
   "source": [
    "# 4. Построение графика продаж по датам\n",
    "import matplotlib.pyplot as plt\n",
    "\n",
    "# Построение графика\n",
    "plt.figure(figsize=(10, 6))\n",
    "plt.bar(df['date'], df['sales'], color='blue', label='Продажи')\n",
    "plt.title('График продаж по датам (Bar)', fontsize=16)\n",
    "plt.xlabel('Дата', fontsize=12)\n",
    "plt.ylabel('Продажи', fontsize=12)\n",
    "plt.xticks(df['date'], rotation=45)  \n",
    "plt.xticks(rotation=90)  # Поворот меток на 90 градусов\n",
    "plt.grid(axis='y', alpha=0.5) \n",
    "plt.legend() # Отображение легенды\n",
    "plt.tight_layout()\n",
    "plt.show()"
   ]
  },
  {
   "cell_type": "code",
   "execution_count": null,
   "metadata": {},
   "outputs": [],
   "source": [
    "\n",
    "\n",
    "\n"
   ]
  },
  {
   "cell_type": "markdown",
   "metadata": {},
   "source": [
    "### Задание 4: Получение данных из API\n",
    "\n",
    "#### Цель: Проверить способность работать с веб-данными.\n",
    "\n",
    "Задание:\n",
    "\n",
    "    Используйте открытое API (например, https://jsonplaceholder.typicode.com/users).\n",
    "    Загрузите данные и создайте DataFrame с полями: id, name, email, company_name.\n",
    "    Выведите таблицу с пользователями, работающими в компаниях, название которых содержит слово \"Group\".\n",
    "\n",
    "Ожидаемый ответ:\n",
    "\n",
    "    DataFrame с результатами фильтрации.\n",
    "\n",
    "Балл: 6"
   ]
  },
  {
   "cell_type": "code",
   "execution_count": null,
   "metadata": {},
   "outputs": [
    {
     "data": {
      "text/html": [
       "<div>\n",
       "<style scoped>\n",
       "    .dataframe tbody tr th:only-of-type {\n",
       "        vertical-align: middle;\n",
       "    }\n",
       "\n",
       "    .dataframe tbody tr th {\n",
       "        vertical-align: top;\n",
       "    }\n",
       "\n",
       "    .dataframe thead th {\n",
       "        text-align: right;\n",
       "    }\n",
       "</style>\n",
       "<table border=\"1\" class=\"dataframe\">\n",
       "  <thead>\n",
       "    <tr style=\"text-align: right;\">\n",
       "      <th></th>\n",
       "      <th>id</th>\n",
       "      <th>name</th>\n",
       "      <th>username</th>\n",
       "      <th>email</th>\n",
       "      <th>address</th>\n",
       "      <th>phone</th>\n",
       "      <th>website</th>\n",
       "      <th>company</th>\n",
       "    </tr>\n",
       "  </thead>\n",
       "  <tbody>\n",
       "    <tr>\n",
       "      <th>0</th>\n",
       "      <td>1</td>\n",
       "      <td>Leanne Graham</td>\n",
       "      <td>Bret</td>\n",
       "      <td>Sincere@april.biz</td>\n",
       "      <td>{'street': 'Kulas Light', 'suite': 'Apt. 556',...</td>\n",
       "      <td>1-770-736-8031 x56442</td>\n",
       "      <td>hildegard.org</td>\n",
       "      <td>{'name': 'Romaguera-Crona', 'catchPhrase': 'Mu...</td>\n",
       "    </tr>\n",
       "    <tr>\n",
       "      <th>1</th>\n",
       "      <td>2</td>\n",
       "      <td>Ervin Howell</td>\n",
       "      <td>Antonette</td>\n",
       "      <td>Shanna@melissa.tv</td>\n",
       "      <td>{'street': 'Victor Plains', 'suite': 'Suite 87...</td>\n",
       "      <td>010-692-6593 x09125</td>\n",
       "      <td>anastasia.net</td>\n",
       "      <td>{'name': 'Deckow-Crist', 'catchPhrase': 'Proac...</td>\n",
       "    </tr>\n",
       "    <tr>\n",
       "      <th>2</th>\n",
       "      <td>3</td>\n",
       "      <td>Clementine Bauch</td>\n",
       "      <td>Samantha</td>\n",
       "      <td>Nathan@yesenia.net</td>\n",
       "      <td>{'street': 'Douglas Extension', 'suite': 'Suit...</td>\n",
       "      <td>1-463-123-4447</td>\n",
       "      <td>ramiro.info</td>\n",
       "      <td>{'name': 'Romaguera-Jacobson', 'catchPhrase': ...</td>\n",
       "    </tr>\n",
       "    <tr>\n",
       "      <th>3</th>\n",
       "      <td>4</td>\n",
       "      <td>Patricia Lebsack</td>\n",
       "      <td>Karianne</td>\n",
       "      <td>Julianne.OConner@kory.org</td>\n",
       "      <td>{'street': 'Hoeger Mall', 'suite': 'Apt. 692',...</td>\n",
       "      <td>493-170-9623 x156</td>\n",
       "      <td>kale.biz</td>\n",
       "      <td>{'name': 'Robel-Corkery', 'catchPhrase': 'Mult...</td>\n",
       "    </tr>\n",
       "    <tr>\n",
       "      <th>4</th>\n",
       "      <td>5</td>\n",
       "      <td>Chelsey Dietrich</td>\n",
       "      <td>Kamren</td>\n",
       "      <td>Lucio_Hettinger@annie.ca</td>\n",
       "      <td>{'street': 'Skiles Walks', 'suite': 'Suite 351...</td>\n",
       "      <td>(254)954-1289</td>\n",
       "      <td>demarco.info</td>\n",
       "      <td>{'name': 'Keebler LLC', 'catchPhrase': 'User-c...</td>\n",
       "    </tr>\n",
       "    <tr>\n",
       "      <th>5</th>\n",
       "      <td>6</td>\n",
       "      <td>Mrs. Dennis Schulist</td>\n",
       "      <td>Leopoldo_Corkery</td>\n",
       "      <td>Karley_Dach@jasper.info</td>\n",
       "      <td>{'street': 'Norberto Crossing', 'suite': 'Apt....</td>\n",
       "      <td>1-477-935-8478 x6430</td>\n",
       "      <td>ola.org</td>\n",
       "      <td>{'name': 'Considine-Lockman', 'catchPhrase': '...</td>\n",
       "    </tr>\n",
       "    <tr>\n",
       "      <th>6</th>\n",
       "      <td>7</td>\n",
       "      <td>Kurtis Weissnat</td>\n",
       "      <td>Elwyn.Skiles</td>\n",
       "      <td>Telly.Hoeger@billy.biz</td>\n",
       "      <td>{'street': 'Rex Trail', 'suite': 'Suite 280', ...</td>\n",
       "      <td>210.067.6132</td>\n",
       "      <td>elvis.io</td>\n",
       "      <td>{'name': 'Johns Group', 'catchPhrase': 'Config...</td>\n",
       "    </tr>\n",
       "    <tr>\n",
       "      <th>7</th>\n",
       "      <td>8</td>\n",
       "      <td>Nicholas Runolfsdottir V</td>\n",
       "      <td>Maxime_Nienow</td>\n",
       "      <td>Sherwood@rosamond.me</td>\n",
       "      <td>{'street': 'Ellsworth Summit', 'suite': 'Suite...</td>\n",
       "      <td>586.493.6943 x140</td>\n",
       "      <td>jacynthe.com</td>\n",
       "      <td>{'name': 'Abernathy Group', 'catchPhrase': 'Im...</td>\n",
       "    </tr>\n",
       "    <tr>\n",
       "      <th>8</th>\n",
       "      <td>9</td>\n",
       "      <td>Glenna Reichert</td>\n",
       "      <td>Delphine</td>\n",
       "      <td>Chaim_McDermott@dana.io</td>\n",
       "      <td>{'street': 'Dayna Park', 'suite': 'Suite 449',...</td>\n",
       "      <td>(775)976-6794 x41206</td>\n",
       "      <td>conrad.com</td>\n",
       "      <td>{'name': 'Yost and Sons', 'catchPhrase': 'Swit...</td>\n",
       "    </tr>\n",
       "    <tr>\n",
       "      <th>9</th>\n",
       "      <td>10</td>\n",
       "      <td>Clementina DuBuque</td>\n",
       "      <td>Moriah.Stanton</td>\n",
       "      <td>Rey.Padberg@karina.biz</td>\n",
       "      <td>{'street': 'Kattie Turnpike', 'suite': 'Suite ...</td>\n",
       "      <td>024-648-3804</td>\n",
       "      <td>ambrose.net</td>\n",
       "      <td>{'name': 'Hoeger LLC', 'catchPhrase': 'Central...</td>\n",
       "    </tr>\n",
       "  </tbody>\n",
       "</table>\n",
       "</div>"
      ],
      "text/plain": [
       "   id                      name          username                      email  \\\n",
       "0   1             Leanne Graham              Bret          Sincere@april.biz   \n",
       "1   2              Ervin Howell         Antonette          Shanna@melissa.tv   \n",
       "2   3          Clementine Bauch          Samantha         Nathan@yesenia.net   \n",
       "3   4          Patricia Lebsack          Karianne  Julianne.OConner@kory.org   \n",
       "4   5          Chelsey Dietrich            Kamren   Lucio_Hettinger@annie.ca   \n",
       "5   6      Mrs. Dennis Schulist  Leopoldo_Corkery    Karley_Dach@jasper.info   \n",
       "6   7           Kurtis Weissnat      Elwyn.Skiles     Telly.Hoeger@billy.biz   \n",
       "7   8  Nicholas Runolfsdottir V     Maxime_Nienow       Sherwood@rosamond.me   \n",
       "8   9           Glenna Reichert          Delphine    Chaim_McDermott@dana.io   \n",
       "9  10        Clementina DuBuque    Moriah.Stanton     Rey.Padberg@karina.biz   \n",
       "\n",
       "                                             address                  phone  \\\n",
       "0  {'street': 'Kulas Light', 'suite': 'Apt. 556',...  1-770-736-8031 x56442   \n",
       "1  {'street': 'Victor Plains', 'suite': 'Suite 87...    010-692-6593 x09125   \n",
       "2  {'street': 'Douglas Extension', 'suite': 'Suit...         1-463-123-4447   \n",
       "3  {'street': 'Hoeger Mall', 'suite': 'Apt. 692',...      493-170-9623 x156   \n",
       "4  {'street': 'Skiles Walks', 'suite': 'Suite 351...          (254)954-1289   \n",
       "5  {'street': 'Norberto Crossing', 'suite': 'Apt....   1-477-935-8478 x6430   \n",
       "6  {'street': 'Rex Trail', 'suite': 'Suite 280', ...           210.067.6132   \n",
       "7  {'street': 'Ellsworth Summit', 'suite': 'Suite...      586.493.6943 x140   \n",
       "8  {'street': 'Dayna Park', 'suite': 'Suite 449',...   (775)976-6794 x41206   \n",
       "9  {'street': 'Kattie Turnpike', 'suite': 'Suite ...           024-648-3804   \n",
       "\n",
       "         website                                            company  \n",
       "0  hildegard.org  {'name': 'Romaguera-Crona', 'catchPhrase': 'Mu...  \n",
       "1  anastasia.net  {'name': 'Deckow-Crist', 'catchPhrase': 'Proac...  \n",
       "2    ramiro.info  {'name': 'Romaguera-Jacobson', 'catchPhrase': ...  \n",
       "3       kale.biz  {'name': 'Robel-Corkery', 'catchPhrase': 'Mult...  \n",
       "4   demarco.info  {'name': 'Keebler LLC', 'catchPhrase': 'User-c...  \n",
       "5        ola.org  {'name': 'Considine-Lockman', 'catchPhrase': '...  \n",
       "6       elvis.io  {'name': 'Johns Group', 'catchPhrase': 'Config...  \n",
       "7   jacynthe.com  {'name': 'Abernathy Group', 'catchPhrase': 'Im...  \n",
       "8     conrad.com  {'name': 'Yost and Sons', 'catchPhrase': 'Swit...  \n",
       "9    ambrose.net  {'name': 'Hoeger LLC', 'catchPhrase': 'Central...  "
      ]
     },
     "execution_count": 35,
     "metadata": {},
     "output_type": "execute_result"
    }
   ],
   "source": [
    "import pandas as pd\n",
    "import requests\n",
    "\n",
    "# Загружаем данные по указанному источнику\n",
    "url = \"https://jsonplaceholder.typicode.com/users\"\n",
    "\n",
    "response = requests.get(url)\n",
    "data = response.json()\n",
    "df = pd.DataFrame(data)\n",
    "\n",
    "# Проверяем, что данные доступны для работы\n",
    "df"
   ]
  },
  {
   "cell_type": "code",
   "execution_count": 44,
   "metadata": {},
   "outputs": [
    {
     "name": "stdout",
     "output_type": "stream",
     "text": [
      "Пользователи, работающие в компаниях, в названии которых содержится слово: 'Group':\n"
     ]
    },
    {
     "data": {
      "text/html": [
       "<div>\n",
       "<style scoped>\n",
       "    .dataframe tbody tr th:only-of-type {\n",
       "        vertical-align: middle;\n",
       "    }\n",
       "\n",
       "    .dataframe tbody tr th {\n",
       "        vertical-align: top;\n",
       "    }\n",
       "\n",
       "    .dataframe thead th {\n",
       "        text-align: right;\n",
       "    }\n",
       "</style>\n",
       "<table border=\"1\" class=\"dataframe\">\n",
       "  <thead>\n",
       "    <tr style=\"text-align: right;\">\n",
       "      <th></th>\n",
       "      <th>id</th>\n",
       "      <th>name</th>\n",
       "      <th>email</th>\n",
       "      <th>company_name</th>\n",
       "    </tr>\n",
       "  </thead>\n",
       "  <tbody>\n",
       "    <tr>\n",
       "      <th>6</th>\n",
       "      <td>7</td>\n",
       "      <td>Kurtis Weissnat</td>\n",
       "      <td>Telly.Hoeger@billy.biz</td>\n",
       "      <td>Johns Group</td>\n",
       "    </tr>\n",
       "    <tr>\n",
       "      <th>7</th>\n",
       "      <td>8</td>\n",
       "      <td>Nicholas Runolfsdottir V</td>\n",
       "      <td>Sherwood@rosamond.me</td>\n",
       "      <td>Abernathy Group</td>\n",
       "    </tr>\n",
       "  </tbody>\n",
       "</table>\n",
       "</div>"
      ],
      "text/plain": [
       "   id                      name                   email     company_name\n",
       "6   7           Kurtis Weissnat  Telly.Hoeger@billy.biz      Johns Group\n",
       "7   8  Nicholas Runolfsdottir V    Sherwood@rosamond.me  Abernathy Group"
      ]
     },
     "execution_count": 44,
     "metadata": {},
     "output_type": "execute_result"
    }
   ],
   "source": [
    "\n",
    "# Формируем новый Dataframe \n",
    "# Создаем новый столец, содержащий имена команий\n",
    "df['company_name'] = df['company'].apply(lambda x: x['name'])\n",
    "# Формируем новый даатфрейм с со столбцами по условию\n",
    "new_df = df[['id', 'name', 'email', 'company_name']]\n",
    "    \n",
    "# Фильтруем столбец \"company name\", название которых содержит \"Group\"\n",
    "new_df_filter = new_df[new_df['company_name'].str.contains(\"Group\", case=False, na=False)]\n",
    "    \n",
    "# Вывод результата\n",
    "print(\"Пользователи, работающие в компаниях, в названии которых содержится слово: 'Group':\")\n",
    "new_df_filter"
   ]
  }
 ],
 "metadata": {
  "kernelspec": {
   "display_name": "Python 3",
   "language": "python",
   "name": "python3"
  },
  "language_info": {
   "codemirror_mode": {
    "name": "ipython",
    "version": 3
   },
   "file_extension": ".py",
   "mimetype": "text/x-python",
   "name": "python",
   "nbconvert_exporter": "python",
   "pygments_lexer": "ipython3",
   "version": "3.12.5"
  }
 },
 "nbformat": 4,
 "nbformat_minor": 2
}

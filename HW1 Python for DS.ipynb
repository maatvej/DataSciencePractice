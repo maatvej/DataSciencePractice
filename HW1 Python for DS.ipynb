{
 "cells": [
  {
   "cell_type": "markdown",
   "metadata": {},
   "source": [
    "1. Импортируем библиотеку Pandas"
   ]
  },
  {
   "cell_type": "code",
   "execution_count": 3,
   "metadata": {},
   "outputs": [],
   "source": [
    "import pandas as pd"
   ]
  },
  {
   "cell_type": "markdown",
   "metadata": {},
   "source": [
    "2.  Загрузим наши датасеты"
   ]
  },
  {
   "cell_type": "code",
   "execution_count": 4,
   "metadata": {},
   "outputs": [],
   "source": [
    "train_df = pd.read_csv('train-001.csv')\n",
    "lectures_df = pd.read_csv('lectures.csv')\n",
    "questions_df = pd.read_csv('questions.csv')"
   ]
  },
  {
   "cell_type": "markdown",
   "metadata": {},
   "source": [
    "4. Анализ файла train-001.csv"
   ]
  },
  {
   "cell_type": "code",
   "execution_count": 5,
   "metadata": {},
   "outputs": [
    {
     "name": "stdout",
     "output_type": "stream",
     "text": [
      "Train DataFrame Info:\n",
      "<class 'pandas.core.frame.DataFrame'>\n",
      "RangeIndex: 101230332 entries, 0 to 101230331\n",
      "Data columns (total 10 columns):\n",
      " #   Column                          Dtype  \n",
      "---  ------                          -----  \n",
      " 0   row_id                          int64  \n",
      " 1   timestamp                       int64  \n",
      " 2   user_id                         int64  \n",
      " 3   content_id                      int64  \n",
      " 4   content_type_id                 int64  \n",
      " 5   task_container_id               int64  \n",
      " 6   user_answer                     int64  \n",
      " 7   answered_correctly              int64  \n",
      " 8   prior_question_elapsed_time     float64\n",
      " 9   prior_question_had_explanation  object \n",
      "dtypes: float64(1), int64(8), object(1)\n",
      "memory usage: 7.5+ GB\n",
      "None\n",
      "\n",
      "Train DataFrame Description:\n",
      "             row_id     timestamp       user_id    content_id  \\\n",
      "count  1.012303e+08  1.012303e+08  1.012303e+08  1.012303e+08   \n",
      "mean   5.061517e+07  7.703644e+09  1.076732e+09  5.219605e+03   \n",
      "std    2.922268e+07  1.159266e+10  6.197163e+08  3.866359e+03   \n",
      "min    0.000000e+00  0.000000e+00  1.150000e+02  0.000000e+00   \n",
      "25%    2.530758e+07  5.243436e+08  5.408116e+08  2.063000e+03   \n",
      "50%    5.061517e+07  2.674234e+09  1.071781e+09  5.026000e+03   \n",
      "75%    7.592275e+07  9.924551e+09  1.615742e+09  7.425000e+03   \n",
      "max    1.012303e+08  8.742577e+10  2.147483e+09  3.273600e+04   \n",
      "\n",
      "       content_type_id  task_container_id   user_answer  answered_correctly  \\\n",
      "count     1.012303e+08       1.012303e+08  1.012303e+08        1.012303e+08   \n",
      "mean      1.935222e-02       9.040624e+02  1.376123e+00        6.251644e-01   \n",
      "std       1.377596e-01       1.358302e+03  1.192896e+00        5.225307e-01   \n",
      "min       0.000000e+00       0.000000e+00 -1.000000e+00       -1.000000e+00   \n",
      "25%       0.000000e+00       1.040000e+02  0.000000e+00        0.000000e+00   \n",
      "50%       0.000000e+00       3.820000e+02  1.000000e+00        1.000000e+00   \n",
      "75%       0.000000e+00       1.094000e+03  3.000000e+00        1.000000e+00   \n",
      "max       1.000000e+00       9.999000e+03  3.000000e+00        1.000000e+00   \n",
      "\n",
      "       prior_question_elapsed_time  \n",
      "count                 9.887879e+07  \n",
      "mean                  2.542381e+04  \n",
      "std                   1.994815e+04  \n",
      "min                   0.000000e+00  \n",
      "25%                   1.600000e+04  \n",
      "50%                   2.100000e+04  \n",
      "75%                   2.966600e+04  \n",
      "max                   3.000000e+05  \n"
     ]
    }
   ],
   "source": [
    "print(\"Train DataFrame Info:\")\n",
    "print(train_df.info())\n",
    "print(\"\\nTrain DataFrame Description:\")\n",
    "print(train_df.describe())"
   ]
  },
  {
   "cell_type": "markdown",
   "metadata": {},
   "source": [
    "5. Анализ файла lectures.csv"
   ]
  },
  {
   "cell_type": "code",
   "execution_count": 6,
   "metadata": {},
   "outputs": [
    {
     "name": "stdout",
     "output_type": "stream",
     "text": [
      "\n",
      "Lectures DataFrame Info:\n",
      "<class 'pandas.core.frame.DataFrame'>\n",
      "RangeIndex: 418 entries, 0 to 417\n",
      "Data columns (total 4 columns):\n",
      " #   Column      Non-Null Count  Dtype \n",
      "---  ------      --------------  ----- \n",
      " 0   lecture_id  418 non-null    int64 \n",
      " 1   tag         418 non-null    int64 \n",
      " 2   part        418 non-null    int64 \n",
      " 3   type_of     418 non-null    object\n",
      "dtypes: int64(3), object(1)\n",
      "memory usage: 13.2+ KB\n",
      "None\n",
      "\n",
      "Lectures DataFrame Description:\n",
      "         lecture_id         tag        part\n",
      "count    418.000000  418.000000  418.000000\n",
      "mean   16983.401914   94.480861    4.267943\n",
      "std     9426.164660   53.586487    1.872424\n",
      "min       89.000000    0.000000    1.000000\n",
      "25%     9026.250000   50.250000    2.000000\n",
      "50%    17161.500000   94.500000    5.000000\n",
      "75%    24906.250000  140.000000    6.000000\n",
      "max    32736.000000  187.000000    7.000000\n"
     ]
    }
   ],
   "source": [
    "print(\"\\nLectures DataFrame Info:\")\n",
    "print(lectures_df.info())\n",
    "print(\"\\nLectures DataFrame Description:\")\n",
    "print(lectures_df.describe())"
   ]
  },
  {
   "cell_type": "markdown",
   "metadata": {},
   "source": [
    "6. Анализ файла questions.csv"
   ]
  },
  {
   "cell_type": "code",
   "execution_count": 7,
   "metadata": {},
   "outputs": [
    {
     "name": "stdout",
     "output_type": "stream",
     "text": [
      "\n",
      "Questions DataFrame Info:\n",
      "<class 'pandas.core.frame.DataFrame'>\n",
      "RangeIndex: 13523 entries, 0 to 13522\n",
      "Data columns (total 5 columns):\n",
      " #   Column          Non-Null Count  Dtype \n",
      "---  ------          --------------  ----- \n",
      " 0   question_id     13523 non-null  int64 \n",
      " 1   bundle_id       13523 non-null  int64 \n",
      " 2   correct_answer  13523 non-null  int64 \n",
      " 3   part            13523 non-null  int64 \n",
      " 4   tags            13522 non-null  object\n",
      "dtypes: int64(4), object(1)\n",
      "memory usage: 528.4+ KB\n",
      "None\n",
      "\n",
      "Questions DataFrame Description:\n",
      "       question_id     bundle_id  correct_answer          part\n",
      "count  13523.00000  13523.000000    13523.000000  13523.000000\n",
      "mean    6761.00000   6760.510907        1.455298      4.264956\n",
      "std     3903.89818   3903.857783        1.149707      1.652553\n",
      "min        0.00000      0.000000        0.000000      1.000000\n",
      "25%     3380.50000   3379.500000        0.000000      3.000000\n",
      "50%     6761.00000   6761.000000        1.000000      5.000000\n",
      "75%    10141.50000  10140.000000        3.000000      5.000000\n",
      "max    13522.00000  13522.000000        3.000000      7.000000\n"
     ]
    }
   ],
   "source": [
    "print(\"\\nQuestions DataFrame Info:\")\n",
    "print(questions_df.info())\n",
    "print(\"\\nQuestions DataFrame Description:\")\n",
    "print(questions_df.describe())"
   ]
  },
  {
   "cell_type": "markdown",
   "metadata": {},
   "source": [
    "7. Объединим данные train-001.csv с метаданными questions.csv и lectures.csv"
   ]
  },
  {
   "cell_type": "code",
   "execution_count": 8,
   "metadata": {},
   "outputs": [],
   "source": [
    "train_questions_df = train_df[train_df['content_type_id'] == 0].merge(questions_df, left_on='content_id', right_on='question_id', how='left')\n",
    "train_lectures_df = train_df[train_df['content_type_id'] == 1].merge(lectures_df, left_on='content_id', right_on='lecture_id', how='left')"
   ]
  },
  {
   "cell_type": "markdown",
   "metadata": {},
   "source": [
    "8. Анализ характеристик, влияющих на успеваемость учащихся"
   ]
  },
  {
   "cell_type": "code",
   "execution_count": null,
   "metadata": {},
   "outputs": [
    {
     "name": "stdout",
     "output_type": "stream",
     "text": [
      "\n",
      "Average Correctness by Part:\n",
      "part\n",
      "1    0.745032\n",
      "2    0.708694\n",
      "3    0.701456\n",
      "4    0.630998\n",
      "5    0.610088\n",
      "6    0.669388\n",
      "7    0.659601\n",
      "Name: answered_correctly, dtype: float64\n"
     ]
    }
   ],
   "source": [
    "# Средняя правильность по частям\n",
    "\n",
    "avg_correctness_by_part = train_questions_df.groupby('part')['answered_correctly'].mean()\n",
    "print(\"\\nAverage Correctness by Part:\")\n",
    "print(avg_correctness_by_part)"
   ]
  },
  {
   "cell_type": "code",
   "execution_count": 10,
   "metadata": {},
   "outputs": [
    {
     "name": "stdout",
     "output_type": "stream",
     "text": [
      "\n",
      "Impact of Prior Question Explanation on Correctness:\n",
      "prior_question_had_explanation\n",
      "False    0.500629\n",
      "True     0.673189\n",
      "Name: answered_correctly, dtype: float64\n"
     ]
    }
   ],
   "source": [
    "# Влияние объяснения предыдущего вопроса на правильность\n",
    "\n",
    "impact_of_explanation = train_questions_df.groupby('prior_question_had_explanation')['answered_correctly'].mean()\n",
    "print(\"\\nImpact of Prior Question Explanation on Correctness:\")\n",
    "print(impact_of_explanation)"
   ]
  },
  {
   "cell_type": "code",
   "execution_count": 11,
   "metadata": {},
   "outputs": [
    {
     "name": "stdout",
     "output_type": "stream",
     "text": [
      "\n",
      "Average Time Spent on Questions:\n",
      "25423.810042960275\n"
     ]
    }
   ],
   "source": [
    "# Среднее время, потраченное на вопросы\n",
    "\n",
    "avg_time_spent = train_questions_df['prior_question_elapsed_time'].mean()\n",
    "print(\"\\nAverage Time Spent on Questions:\")\n",
    "print(avg_time_spent)"
   ]
  },
  {
   "cell_type": "code",
   "execution_count": 12,
   "metadata": {},
   "outputs": [
    {
     "name": "stdout",
     "output_type": "stream",
     "text": [
      "\n",
      "User Answer Distribution:\n",
      "user_answer\n",
      "0    0.283934\n",
      "1    0.271881\n",
      "3    0.262763\n",
      "2    0.181422\n",
      "Name: proportion, dtype: float64\n"
     ]
    }
   ],
   "source": [
    "# Распределение ответов\n",
    "\n",
    "user_answer_distribution = train_questions_df['user_answer'].value_counts(normalize=True)\n",
    "print(\"\\nUser Answer Distribution:\")\n",
    "print(user_answer_distribution)"
   ]
  },
  {
   "cell_type": "code",
   "execution_count": 13,
   "metadata": {},
   "outputs": [
    {
     "name": "stdout",
     "output_type": "stream",
     "text": [
      "\n",
      "Lecture Type Frequency:\n",
      "type_of\n",
      "concept             1407179\n",
      "solving question     445116\n",
      "intention            106734\n",
      "starter                   3\n",
      "Name: count, dtype: int64\n"
     ]
    }
   ],
   "source": [
    "# Типы лекций и их частота\n",
    "\n",
    "lecture_type_frequency = train_lectures_df['type_of'].value_counts()\n",
    "print(\"\\nLecture Type Frequency:\")\n",
    "print(lecture_type_frequency)"
   ]
  },
  {
   "cell_type": "markdown",
   "metadata": {},
   "source": [
    "Этот код загружает наборы данных, предоставляет базовую информацию и описательную статистику, а также выполняет анализ для изучения характеристик, которые могут повлиять на успеваемость учащихся."
   ]
  }
 ],
 "metadata": {
  "kernelspec": {
   "display_name": "Python 3",
   "language": "python",
   "name": "python3"
  },
  "language_info": {
   "codemirror_mode": {
    "name": "ipython",
    "version": 3
   },
   "file_extension": ".py",
   "mimetype": "text/x-python",
   "name": "python",
   "nbconvert_exporter": "python",
   "pygments_lexer": "ipython3",
   "version": "3.13.0"
  }
 },
 "nbformat": 4,
 "nbformat_minor": 2
}
